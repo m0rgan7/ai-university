{
 "cells": [
  {
   "cell_type": "code",
   "execution_count": null,
   "id": "d01ae73c",
   "metadata": {},
   "outputs": [],
   "source": [
    "import pandas as pd\n",
    "from sklearn.model_selection import train_test_split\n",
    "from sklearn.neighbors import KNeighborsClassifier\n",
    "from sklearn.metrics import accuracy_score\n",
    "import matplotlib.pyplot as plt"
   ]
  },
  {
   "cell_type": "code",
   "execution_count": null,
   "id": "6767a592",
   "metadata": {},
   "outputs": [],
   "source": [
    "df = pd.read_csv('churn_dataset.csv')\n",
    "\n",
    "# Visualiza as primeiras linhas\n",
    "df.head()"
   ]
  },
  {
   "cell_type": "code",
   "execution_count": null,
   "id": "55cdf1cf",
   "metadata": {},
   "outputs": [],
   "source": [
    "# Features (variáveis independentes)\n",
    "X = df[['idade', 'tempo_contrato', 'uso_mensal', 'suporte_chamados']]\n",
    "\n",
    "# Variável alvo (0 = manteve, 1 = cancelou)\n",
    "y = df['cancelou']\n",
    "\n",
    "X_train, X_test, y_train, y_test = train_test_split(\n",
    "    X, y, test_size=0.3, random_state=42\n",
    ")"
   ]
  },
  {
   "cell_type": "code",
   "execution_count": null,
   "id": "b403299e",
   "metadata": {},
   "outputs": [],
   "source": [
    "knn = KNeighborsClassifier(n_neighbors=5)\n",
    "knn.fit(X_train, y_train)\n",
    "\n",
    "# Previsões\n",
    "y_pred = knn.predict(X_test)\n",
    "\n",
    "# Acurácia\n",
    "acc = accuracy_score(y_test, y_pred)\n",
    "print(f'Acurácia com k=5: {acc:.2f}')"
   ]
  },
  {
   "cell_type": "code",
   "execution_count": null,
   "id": "cba800de",
   "metadata": {},
   "outputs": [],
   "source": [
    "k_values = [1, 3, 5, 7, 9]\n",
    "accuracies = []\n",
    "\n",
    "for k in k_values:\n",
    "    knn = KNeighborsClassifier(n_neighbors=k)\n",
    "    knn.fit(X_train, y_train)\n",
    "    y_pred = knn.predict(X_test)\n",
    "    acc = accuracy_score(y_test, y_pred)\n",
    "    accuracies.append(acc)\n",
    "    print(f'Acurácia com k={k}: {acc:.2f}')"
   ]
  },
  {
   "cell_type": "code",
   "execution_count": null,
   "id": "42712c62",
   "metadata": {},
   "outputs": [],
   "source": [
    "plt.plot(k_values, accuracies, marker='o')\n",
    "plt.title('Acurácia vs Valor de k')\n",
    "plt.xlabel('k')\n",
    "plt.ylabel('Acurácia')\n",
    "plt.grid(True)\n",
    "plt.show()"
   ]
  },
  {
   "cell_type": "markdown",
   "id": "52ec1546",
   "metadata": {},
   "source": [
    "# Questões para reflexão\n",
    "\n",
    "- 1. Qual valor de k trouxe a melhor acurácia?\n",
    "\n",
    "O valor de k que trouxe a melhor acurácia foi k = X, com uma acurácia de Y%.\n",
    "\n",
    "- 2. O modelo errou mais quando k era pequeno ou grande?\n",
    "\n",
    "O modelo errou mais quando k era pequeno/grande, porque...\n",
    "\n",
    "- 3. Por que mudar o parâmetro k altera os resultados?\n",
    "\n",
    "O valor de k influencia quantos \"vizinhos\" o algoritmo considera. Um valor muito pequeno pode causar overfitting (muito sensível ao ruído), e um valor muito alto pode causar underfitting (decisões genéricas demais)."
   ]
  }
 ],
 "metadata": {
  "language_info": {
   "name": "python"
  }
 },
 "nbformat": 4,
 "nbformat_minor": 5
}
