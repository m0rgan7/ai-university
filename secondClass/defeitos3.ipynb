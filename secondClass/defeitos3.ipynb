{
 "cells": [
  {
   "cell_type": "code",
   "execution_count": 1,
   "id": "12d4d737",
   "metadata": {},
   "outputs": [
    {
     "name": "stdout",
     "output_type": "stream",
     "text": [
      "Acurácia com todas as features (baseline): 0.8333\n",
      "\n",
      "Removendo feature: temperatura\n",
      "Acurácia sem 'temperatura': 0.8333\n",
      "\n",
      "Removendo feature: pressao\n",
      "Acurácia sem 'pressao': 0.8333\n",
      "\n",
      "Removendo feature: velocidade\n",
      "Acurácia sem 'velocidade': 0.8333\n",
      "\n",
      "Removendo feature: vibracao\n",
      "Acurácia sem 'vibracao': 0.8333\n",
      "\n",
      "Removendo feature: umidade\n",
      "Acurácia sem 'umidade': 0.8222\n",
      "\n",
      "--- Comparação das Acurácias ---\n",
      "Baseline (todas as features): 0.8333\n",
      "Sem 'temperatura': 0.8333 | Diferença: 0.0000\n",
      "Sem 'pressao': 0.8333 | Diferença: 0.0000\n",
      "Sem 'velocidade': 0.8333 | Diferença: 0.0000\n",
      "Sem 'vibracao': 0.8333 | Diferença: 0.0000\n",
      "Sem 'umidade': 0.8222 | Diferença: 0.0111\n"
     ]
    }
   ],
   "source": [
    "# 1. Importar bibliotecas necessárias\n",
    "import pandas as pd\n",
    "from sklearn.model_selection import train_test_split\n",
    "from sklearn.neighbors import KNeighborsClassifier\n",
    "from sklearn.metrics import accuracy_score\n",
    "\n",
    "# 2. Carregar o dataset\n",
    "df = pd.read_csv('defeitos_dataset.csv')\n",
    "\n",
    "# 3. Separar features (X) e target (y)\n",
    "X = df.drop('defeituoso', axis=1)\n",
    "y = df['defeituoso']\n",
    "\n",
    "# 4. Dividir em treino e teste (70/30)\n",
    "X_train, X_test, y_train, y_test = train_test_split(X, y, test_size=0.3, random_state=42)\n",
    "\n",
    "# 5. Treinar o modelo KNN com k=5 usando todas as features\n",
    "knn = KNeighborsClassifier(n_neighbors=5)\n",
    "knn.fit(X_train, y_train)\n",
    "\n",
    "# 6. Calcular a acurácia baseline\n",
    "y_pred = knn.predict(X_test)\n",
    "baseline_accuracy = accuracy_score(y_test, y_pred)\n",
    "print(f\"Acurácia com todas as features (baseline): {baseline_accuracy:.4f}\")\n",
    "\n",
    "# 7. Fazer ablation study (remoção de uma feature por vez)\n",
    "ablation_results = {}\n",
    "\n",
    "for feature in X.columns:\n",
    "    print(f\"\\nRemovendo feature: {feature}\")\n",
    "    \n",
    "    # Remove a feature\n",
    "    X_temp = X.drop(columns=[feature])\n",
    "\n",
    "    # Divide novamente\n",
    "    X_train_temp, X_test_temp, y_train_temp, y_test_temp = train_test_split(X_temp, y, test_size=0.3, random_state=42)\n",
    "\n",
    "    # Treina o modelo\n",
    "    knn_temp = KNeighborsClassifier(n_neighbors=5)\n",
    "    knn_temp.fit(X_train_temp, y_train_temp)\n",
    "\n",
    "    # Avalia acurácia\n",
    "    y_pred_temp = knn_temp.predict(X_test_temp)\n",
    "    acc = accuracy_score(y_test_temp, y_pred_temp)\n",
    "    ablation_results[feature] = acc\n",
    "    print(f\"Acurácia sem '{feature}': {acc:.4f}\")\n",
    "\n",
    "# 8. Comparar resultados\n",
    "print(\"\\n--- Comparação das Acurácias ---\")\n",
    "print(f\"Baseline (todas as features): {baseline_accuracy:.4f}\")\n",
    "for feat, acc in ablation_results.items():\n",
    "    diff = baseline_accuracy - acc\n",
    "    print(f\"Sem '{feat}': {acc:.4f} | Diferença: {diff:.4f}\")"
   ]
  }
 ],
 "metadata": {
  "kernelspec": {
   "display_name": "Python 3",
   "language": "python",
   "name": "python3"
  },
  "language_info": {
   "codemirror_mode": {
    "name": "ipython",
    "version": 3
   },
   "file_extension": ".py",
   "mimetype": "text/x-python",
   "name": "python",
   "nbconvert_exporter": "python",
   "pygments_lexer": "ipython3",
   "version": "3.13.7"
  }
 },
 "nbformat": 4,
 "nbformat_minor": 5
}
